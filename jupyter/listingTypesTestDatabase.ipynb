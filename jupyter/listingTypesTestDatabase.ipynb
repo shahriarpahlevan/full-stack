{
 "cells": [
  {
   "cell_type": "code",
   "execution_count": 10,
   "metadata": {},
   "outputs": [
    {
     "name": "stdout",
     "output_type": "stream",
     "text": [
      "[(1006, 'Events', 0, 'Events', 12023, 'Western-Australia', 'Western Australia', 'Western Australia - Events', 1, True, False, 7002, 'Lifestyle &amp; Travel', 'Lifestyle-and-Travel'), (1040, 'Event Venues', 0, 'Event-Venues', 12023, 'Western-Australia', 'Western Australia', 'Western Australia - Event Venues', 2, True, False, 7002, 'Lifestyle &amp; Travel', 'Lifestyle-and-Travel'), (1002, 'Accommodation', 0, 'Accommodation', 12023, 'Western-Australia', 'Western Australia', 'Western Australia - Accommodation', 3, True, False, 7002, 'Lifestyle &amp; Travel', 'Lifestyle-and-Travel'), (1004, 'Bars & Restaurants', 0, 'Bars-and-Restaurants', 12023, 'Western-Australia', 'Western Australia', 'Western Australia - Bars & Restaurants', 4, True, False, 7002, 'Lifestyle &amp; Travel', 'Lifestyle-and-Travel'), (1038, 'Bookstores', 0, 'Bookstores', 12023, 'Western-Australia', 'Western Australia', 'Western Australia - Bookstores', 5, True, False, 7002, 'Lifestyle &amp; Travel', 'Lifestyle-and-Travel'), (1045, 'Clubs & Associations', 0, 'Clubs-Associations', 12023, 'Western-Australia', 'Western Australia', 'Western Australia - Clubs & Associations', 6, True, False, 7002, 'Lifestyle &amp; Travel', 'Lifestyle-and-Travel'), (1008, 'Galleries', 0, 'Galleries', 12023, 'Western-Australia', 'Western Australia', 'Western Australia - Galleries', 7, True, False, 7002, 'Lifestyle &amp; Travel', 'Lifestyle-and-Travel'), (1039, 'Museums', 0, 'Museums', 12023, 'Western-Australia', 'Western Australia', 'Western Australia - Museums', 8, True, False, 7002, 'Lifestyle &amp; Travel', 'Lifestyle-and-Travel'), (1014, 'Retail & Services', 0, 'Retail', 12023, 'Western-Australia', 'Western Australia', 'Western Australia - Retail & Services', 9, True, False, 7002, 'Lifestyle &amp; Travel', 'Lifestyle-and-Travel'), (1046, 'Shopping', 0, 'Shopping', 12023, 'Western-Australia', 'Western Australia', 'Western Australia - Shopping', 10, True, False, 7002, 'Lifestyle &amp; Travel', 'Lifestyle-and-Travel'), (1009, 'Spa, Health & Beauty', 0, 'Spa-Health-Beauty', 12023, 'Western-Australia', 'Western Australia', 'Western Australia - Spa, Health & Beauty', 11, True, False, 7002, 'Lifestyle &amp; Travel', 'Lifestyle-and-Travel'), (1007, 'Things To Do & See', 0, 'Things-To-Do', 12023, 'Western-Australia', 'Western Australia', 'Western Australia - Things To Do & See', 12, True, False, 7002, 'Lifestyle &amp; Travel', 'Lifestyle-and-Travel'), (1000, 'Wineries & Breweries', 0, 'Wineries', 12023, 'Western-Australia', 'Western Australia', 'Western Australia - Wineries & Breweries', 13, True, False, 7002, 'Lifestyle &amp; Travel', 'Lifestyle-and-Travel'), (1010, 'Caterers', 0, 'Caterers', 12023, 'Western-Australia', 'Western Australia', 'Western Australia - Caterers', 14, True, True, 7004, 'Functions &amp; Venues', 'Functions-and-Venues'), (1036, 'Functions', 0, 'Functions', 12023, 'Western-Australia', 'Western Australia', 'Western Australia - Functions', 15, True, True, 7004, 'Functions &amp; Venues', 'Functions-and-Venues'), (1037, 'Function Organisers', 0, 'Function-Organisers', 12023, 'Western-Australia', 'Western Australia', 'Western Australia - Function Organisers', 16, True, True, 7004, 'Functions &amp; Venues', 'Functions-and-Venues'), (1048, 'fdgdg', 0, 'fdgdg', 12023, 'Western-Australia', 'Western Australia', 'Western Australia - fdgdg', 17, True, False, 7002, 'Lifestyle &amp; Travel', 'Lifestyle-and-Travel'), (1012, 'Function Services', 0, 'Function-Services', 12023, 'Western-Australia', 'Western Australia', 'Western Australia - Function Services', 17, True, True, 7004, 'Functions &amp; Venues', 'Functions-and-Venues'), (1011, 'Venues', 0, 'Venues', 12023, 'Western-Australia', 'Western Australia', 'Western Australia - Venues', 18, True, True, 7004, 'Functions &amp; Venues', 'Functions-and-Venues'), (1015, 'Architects, Builders & Designers', 0, 'Architects-Builders-Designers', 12023, 'Western-Australia', 'Western Australia', 'Western Australia - Architects, Builders & Designers', 19, True, False, 7005, 'Building &amp; Design', 'Building-and-Design'), (1015, 'Architects, Builders & Designers', 0, 'Architects-Builders-Designers', 12023, 'Western-Australia', 'Western Australia', 'Western Australia - Architects, Builders & Designers', 19, True, False, 7005, 'Building &amp; Design', 'Building-and-Design'), (1030, 'Commercial Designs', 0, 'Commercial-Designs', 12023, 'Western-Australia', 'Western Australia', 'Western Australia - Commercial Designs', 20, True, False, 7005, 'Building &amp; Design', 'Building-and-Design'), (1030, 'Commercial Designs', 0, 'Commercial-Designs', 12023, 'Western-Australia', 'Western Australia', 'Western Australia - Commercial Designs', 20, True, False, 7005, 'Building &amp; Design', 'Building-and-Design'), (1020, 'Residential Designs', 0, 'Residential-Designs', 12023, 'Western-Australia', 'Western Australia', 'Western Australia - Residential Designs', 21, True, False, 7005, 'Building &amp; Design', 'Building-and-Design'), (1020, 'Residential Designs', 0, 'Residential-Designs', 12023, 'Western-Australia', 'Western Australia', 'Western Australia - Residential Designs', 21, True, False, 7005, 'Building &amp; Design', 'Building-and-Design'), (1017, 'Developers', 0, 'Developers', 12023, 'Western-Australia', 'Western Australia', 'Western Australia - Developers', 22, True, False, 7005, 'Building &amp; Design', 'Building-and-Design'), (1017, 'Developers', 0, 'Developers', 12023, 'Western-Australia', 'Western Australia', 'Western Australia - Developers', 22, True, False, 7005, 'Building &amp; Design', 'Building-and-Design'), (1022, 'Developments', 0, 'Developments', 12023, 'Western-Australia', 'Western Australia', 'Western Australia - Developments', 23, True, False, 7005, 'Building &amp; Design', 'Building-and-Design'), (1022, 'Developments', 0, 'Developments', 12023, 'Western-Australia', 'Western Australia', 'Western Australia - Developments', 23, True, False, 7005, 'Building &amp; Design', 'Building-and-Design'), (1023, 'Suppliers & Retailers', 0, 'Suppliers-Retailers', 12023, 'Western-Australia', 'Western Australia', 'Western Australia - Suppliers & Retailers', 24, True, False, 7005, 'Building &amp; Design', 'Building-and-Design'), (1024, 'Product Ranges', 0, 'Products', 12023, 'Western-Australia', 'Western Australia', 'Western Australia - Product Ranges', 25, True, False, 7005, 'Building &amp; Design', 'Building-and-Design'), (1042, 'Community Organisations', 0, 'Community-Organisations', 12023, 'Western-Australia', 'Western Australia', 'Western Australia - Community Organisations', 26, True, False, 7007, 'Community &amp; Charity', 'Community'), (1043, 'Community Projects', 0, 'Community-Projects-Programs', 12023, 'Western-Australia', 'Western Australia', 'Western Australia - Community Projects', 27, True, False, 7007, 'Community &amp; Charity', 'Community'), (1044, 'Help Needed', 0, 'Help-Needed', 12023, 'Western-Australia', 'Western Australia', 'Western Australia - Help Needed', 28, True, False, 7007, 'Community &amp; Charity', 'Community')]\n"
     ]
    }
   ],
   "source": [
    "import pyodbc\n",
    "conn = pyodbc.connect(\"Driver={ODBC Driver 17 for SQL Server};Server=immjie8yh0.database.windows.net;Database=ScoopOnlineTest;uid=scooptest;pwd=bDfpdH9aZyLmkbIEpAGJ\")\n",
    "crsr = conn.cursor()\n",
    "sqlExecSP = \"{call pwsp_ListingTypes (1, 1, '')}\"\n",
    "rows = crsr.execute(sqlExecSP).fetchall()\n",
    "print(rows)\n",
    "crsr.close()\n",
    "conn.close()"
   ]
  },
  {
   "cell_type": "code",
   "execution_count": null,
   "metadata": {},
   "outputs": [],
   "source": []
  },
  {
   "cell_type": "code",
   "execution_count": null,
   "metadata": {},
   "outputs": [],
   "source": []
  }
 ],
 "metadata": {
  "kernelspec": {
   "display_name": "Python 3",
   "language": "python",
   "name": "python3"
  },
  "language_info": {
   "codemirror_mode": {
    "name": "ipython",
    "version": 3
   },
   "file_extension": ".py",
   "mimetype": "text/x-python",
   "name": "python",
   "nbconvert_exporter": "python",
   "pygments_lexer": "ipython3",
   "version": "3.5.4"
  }
 },
 "nbformat": 4,
 "nbformat_minor": 4
}
